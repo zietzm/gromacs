{
 "cells": [
  {
   "cell_type": "code",
   "execution_count": 60,
   "metadata": {
    "collapsed": true
   },
   "outputs": [],
   "source": [
    "import MDAnalysis as mda\n",
    "import random"
   ]
  },
  {
   "cell_type": "code",
   "execution_count": 62,
   "metadata": {
    "collapsed": false
   },
   "outputs": [],
   "source": [
    "outfile = \"gmx-mixed-bilayer\"\n",
    "bilayer = mda.Universe(\"str-dppc-bilayer.gro\")\n",
    "\n",
    "rlist = random.sample(xrange(129), 35)\n",
    "sel = bilayer.select_atoms(\"resid 0\")\n",
    "for i in rlist:\n",
    "    sel = sel + bilayer.select_atoms(\"resid %s\" % i)\n",
    "\n",
    "sel.resnames = \"DBPC\"\n",
    "DPPW = bilayer.select_atoms(\"resname DPPC or resname W\")\n",
    "rm = bilayer.select_atoms(\"resname DBPC and not (name C2A or name C3A or name C4A or name C2B or name C3B or name C4B)\")\n",
    "\n",
    "write = mda.coordinates.GRO.GROWriter(filename=outfile, format=\"GRO\")\n",
    "write.write(mda.Merge(rm, DPPW))"
   ]
  },
  {
   "cell_type": "code",
   "execution_count": 63,
   "metadata": {
    "collapsed": false
   },
   "outputs": [],
   "source": [
    "file1 = open(str(outfile + '.gro'))\n",
    "data=file1.read()\n",
    "\n",
    "data = data.replace(\"   0.00000   0.00000   0.00000   0.00000   0.00000   0.00000   0.00000   0.00000   0.00000\",\n",
    "                    \"   6.31915   6.46099  10.05482\" )\n",
    "\n",
    "out = open(str(outfile + '.gro'),'w')\n",
    "out.write(data)\n",
    "out.close()"
   ]
  },
  {
   "cell_type": "code",
   "execution_count": 52,
   "metadata": {
    "collapsed": false
   },
   "outputs": [],
   "source": [
    "file1 = open(\"TEST.gro\")\n",
    "data=file1.read()\n",
    "\n",
    "data = data.replace(\"   0.00000   0.00000   0.00000   0.00000   0.00000   0.00000   0.00000   0.00000   0.00000\",\n",
    "                    \"   6.31915   6.46099  10.05482\" )\n",
    "\n",
    "out = open(\"TEST.gro\",'w')\n",
    "out.write(data)\n",
    "out.close()"
   ]
  },
  {
   "cell_type": "code",
   "execution_count": 74,
   "metadata": {
    "collapsed": false
   },
   "outputs": [],
   "source": [
    "file2 = open(\"str-dppc-bilayer.gro\")\n",
    "df = file2.read()\n",
    "x =df[-31:]"
   ]
  },
  {
   "cell_type": "code",
   "execution_count": 75,
   "metadata": {
    "collapsed": false
   },
   "outputs": [
    {
     "data": {
      "text/plain": [
       "'   6.31915   6.46099  10.05482\\n'"
      ]
     },
     "execution_count": 75,
     "metadata": {},
     "output_type": "execute_result"
    }
   ],
   "source": [
    "x"
   ]
  },
  {
   "cell_type": "code",
   "execution_count": 76,
   "metadata": {
    "collapsed": false
   },
   "outputs": [
    {
     "name": "stdout",
     "output_type": "stream",
     "text": [
      "   6.31915   6.46099  10.05482\n",
      "\n"
     ]
    }
   ],
   "source": [
    "data = data.replace()"
   ]
  },
  {
   "cell_type": "code",
   "execution_count": 78,
   "metadata": {
    "collapsed": false
   },
   "outputs": [
    {
     "data": {
      "text/plain": [
       "'   6.31915   6.46099  10.05482\\n'"
      ]
     },
     "execution_count": 78,
     "metadata": {},
     "output_type": "execute_result"
    }
   ],
   "source": [
    "x = open(\"str-dppc-bilayer.gro\").read()\n",
    "x[-31:]"
   ]
  },
  {
   "cell_type": "markdown",
   "metadata": {},
   "source": [
    "# NOTE\n",
    "Below is the revised code. By (I believe) not using Merge, it is able to keep all velocities and be significantly shorter than any previous attempt at this code function."
   ]
  },
  {
   "cell_type": "code",
   "execution_count": 97,
   "metadata": {
    "collapsed": false
   },
   "outputs": [],
   "source": [
    "outfile = \"TESTLET2\"\n",
    "bilayer = mda.Universe(\"str-dppc-bilayer.gro\")\n",
    "b = bilayer.atoms\n",
    "selection = b.select_atoms(\"resid 0\")\n",
    "rlist = random.sample(xrange(1, 129), 35)\n",
    "for i in rlist:\n",
    "    selection = selection + bilayer.select_atoms(\"resid %s\" % i)\n",
    "selection.resnames = \"DBPC\"\n",
    "selection = bilayer.select_atoms(\"resname DBPC and not (name C2A or name C3A or name C4A or name C2B or name C3B or name C4B)\")\n",
    "selection = selection + bilayer.select_atoms(\"resname DPPC or resname W\")\n",
    "selection.write(filename=outfile, format=\"GRO\")"
   ]
  },
  {
   "cell_type": "code",
   "execution_count": null,
   "metadata": {
    "collapsed": true
   },
   "outputs": [],
   "source": []
  }
 ],
 "metadata": {
  "kernelspec": {
   "display_name": "Python 2",
   "language": "python",
   "name": "python2"
  },
  "language_info": {
   "codemirror_mode": {
    "name": "ipython",
    "version": 2
   },
   "file_extension": ".py",
   "mimetype": "text/x-python",
   "name": "python",
   "nbconvert_exporter": "python",
   "pygments_lexer": "ipython2",
   "version": "2.7.11"
  }
 },
 "nbformat": 4,
 "nbformat_minor": 0
}
