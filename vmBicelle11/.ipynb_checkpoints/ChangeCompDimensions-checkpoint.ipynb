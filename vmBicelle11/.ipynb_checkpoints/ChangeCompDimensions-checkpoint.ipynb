{
 "cells": [
  {
   "cell_type": "code",
   "execution_count": 1,
   "metadata": {
    "collapsed": true
   },
   "outputs": [],
   "source": [
    "import MDAnalysis as mda\n",
    "import random"
   ]
  },
  {
   "cell_type": "code",
   "execution_count": 4,
   "metadata": {
    "collapsed": true
   },
   "outputs": [],
   "source": [
    "bilayer = mda.Universe(\"str-dppc-bilayer.gro\")"
   ]
  },
  {
   "cell_type": "code",
   "execution_count": 5,
   "metadata": {
    "collapsed": false
   },
   "outputs": [],
   "source": [
    "rlist = random.sample(xrange(129), 35)\n",
    "sel = bilayer.select_atoms(\"resid 0\")\n",
    "for i in rlist:\n",
    "    sel = sel + bilayer.select_atoms(\"resid %s\" % i)\n",
    "\n",
    "sel.resnames = \"DBPC\"\n",
    "DPPW = bilayer.select_atoms(\"resname DPPC or resname W\")\n",
    "rm = bilayer.select_atoms(\"resname DBPC and not (name C2A or name C3A or name C4A or name C2B or name C3B or name C4B)\")"
   ]
  },
  {
   "cell_type": "code",
   "execution_count": 15,
   "metadata": {
    "collapsed": false
   },
   "outputs": [],
   "source": [
    "write = mda.coordinates.GRO.GROWriter(filename=\"TEST\", format=\"GRO\")\n",
    "write.write(mda.Merge(rm, DPPW))"
   ]
  },
  {
   "cell_type": "code",
   "execution_count": 16,
   "metadata": {
    "collapsed": false
   },
   "outputs": [],
   "source": [
    "file1 = open(\"TEST.gro\")\n",
    "data=file1.read()"
   ]
  },
  {
   "cell_type": "code",
   "execution_count": 18,
   "metadata": {
    "collapsed": false
   },
   "outputs": [],
   "source": [
    "data = data.replace(\"   0.00000   0.00000   0.00000   0.00000   0.00000   0.00000   0.00000   0.00000   0.00000\",\"   25.00000   25.00000   10.00000\" )"
   ]
  },
  {
   "cell_type": "code",
   "execution_count": 19,
   "metadata": {
    "collapsed": true
   },
   "outputs": [],
   "source": [
    "out = open(\"TEST.gro\",'w')\n",
    "out.write(data)\n",
    "out.close()"
   ]
  },
  {
   "cell_type": "code",
   "execution_count": null,
   "metadata": {
    "collapsed": true
   },
   "outputs": [],
   "source": []
  }
 ],
 "metadata": {
  "kernelspec": {
   "display_name": "Python 2",
   "language": "python",
   "name": "python2"
  },
  "language_info": {
   "codemirror_mode": {
    "name": "ipython",
    "version": 2
   },
   "file_extension": ".py",
   "mimetype": "text/x-python",
   "name": "python",
   "nbconvert_exporter": "python",
   "pygments_lexer": "ipython2",
   "version": "2.7.11"
  }
 },
 "nbformat": 4,
 "nbformat_minor": 0
}
