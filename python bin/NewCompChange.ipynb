{
 "cells": [
  {
   "cell_type": "markdown",
   "metadata": {},
   "source": [
    "# Change Composition Using MDAnalysis\n",
    "We will use the following outline:\n",
    "1. Import all necessary packages\n",
    "2. Randomly select a specified number of DPPC\n",
    "3. Edit those DPPC, preferably using MDAnalysis"
   ]
  },
  {
   "cell_type": "code",
   "execution_count": 47,
   "metadata": {
    "collapsed": true
   },
   "outputs": [
    {
     "name": "stderr",
     "output_type": "stream",
     "text": [
      "/home/michael/anaconda2/lib/python2.7/site-packages/ipykernel/pylab/config.py:66: DeprecationWarning: metadata {'config': True} was set from the constructor.  Metadata should be set using the .tag() method, e.g., Int().tag(key1='value1', key2='value2')\n",
      "  inline backend.\"\"\"\n",
      "/home/michael/anaconda2/lib/python2.7/site-packages/ipykernel/pylab/config.py:71: DeprecationWarning: metadata {'config': True} was set from the constructor.  Metadata should be set using the .tag() method, e.g., Int().tag(key1='value1', key2='value2')\n",
      "  'retina', 'jpeg', 'svg', 'pdf'.\"\"\")\n",
      "/home/michael/anaconda2/lib/python2.7/site-packages/ipykernel/pylab/config.py:85: DeprecationWarning: metadata {'config': True} was set from the constructor.  Metadata should be set using the .tag() method, e.g., Int().tag(key1='value1', key2='value2')\n",
      "  use `figure_formats` instead)\"\"\")\n",
      "/home/michael/anaconda2/lib/python2.7/site-packages/ipykernel/pylab/config.py:95: DeprecationWarning: metadata {'config': True} was set from the constructor.  Metadata should be set using the .tag() method, e.g., Int().tag(key1='value1', key2='value2')\n",
      "  \"\"\"\n",
      "/home/michael/anaconda2/lib/python2.7/site-packages/ipykernel/pylab/config.py:114: DeprecationWarning: metadata {'config': True} was set from the constructor.  Metadata should be set using the .tag() method, e.g., Int().tag(key1='value1', key2='value2')\n",
      "  \"\"\")\n",
      "/home/michael/anaconda2/lib/python2.7/site-packages/ipykernel/pylab/config.py:44: DeprecationWarning: InlineBackend._config_changed is deprecated: use @observe and @unobserve instead.\n",
      "  def _config_changed(self, name, old, new):\n",
      "/home/michael/anaconda2/lib/python2.7/site-packages/traitlets/traitlets.py:770: DeprecationWarning: A parent of InlineBackend._config_changed has adopted the new @observe(change) API\n",
      "  clsname, change_or_name), DeprecationWarning)\n"
     ]
    }
   ],
   "source": [
    "%matplotlib inline\n",
    "import matplotlib\n",
    "import matplotlib.pyplot as plt\n",
    "import numpy as np\n",
    "import MDAnalysis as mda\n",
    "\n",
    "input_file = \"dppc_bilayer.gro\"\n",
    "bilayer = mda.Universe(input_file)\n",
    "bilayeratoms = bilayer.atoms\n",
    "individualatoms = bilayeratoms.resids"
   ]
  },
  {
   "cell_type": "code",
   "execution_count": 182,
   "metadata": {
    "collapsed": false
   },
   "outputs": [
    {
     "data": {
      "text/plain": [
       "<AtomGroup with 420 atoms>"
      ]
     },
     "execution_count": 182,
     "metadata": {},
     "output_type": "execute_result"
    }
   ],
   "source": [
    "randomnumberselectiontest = np.random.randint(0,129,35)\n",
    "randomnumberselectiontest = randomnumberselectiontest.tolist()\n",
    "rlist = randomnumberselectiontest\n",
    "sel = bilayer.select_atoms(\"resid 0\")\n",
    "\n",
    "for i in rlist:\n",
    "    sel = sel + bilayer.select_atoms(\"resid %s\" % i)\n",
    "\n",
    "sel.resnames = \"DBPC\"\n",
    "# At this point, sel is an atom selection with name DBPC, but they are all DPPC. We need to edit sel to remove later\n",
    "# carbons\n",
    "\n",
    "bilayer.select_atoms(\"name not NC3\") #Figure out how to fix boolean here."
   ]
  },
  {
   "cell_type": "markdown",
   "metadata": {},
   "source": [
    "4/13/16:\n",
    "\n",
    "We need to take sel and make a subselection that does not include atoms which are present in DBPC. Then, we need to make a subselection of the bilayer that doesn't include the original atoms in sel. The, we can merge these two subselections into an independent universe with 'merge' and export that as either pdb or gro. "
   ]
  },
  {
   "cell_type": "code",
   "execution_count": 119,
   "metadata": {
    "collapsed": false
   },
   "outputs": [
    {
     "data": {
      "text/plain": [
       "35"
      ]
     },
     "execution_count": 119,
     "metadata": {},
     "output_type": "execute_result"
    }
   ],
   "source": [
    "len(rlist)"
   ]
  },
  {
   "cell_type": "code",
   "execution_count": 79,
   "metadata": {
    "collapsed": false
   },
   "outputs": [],
   "source": [
    "selectiontest = bilayer.select_atoms(\"resname DPPC\")\n",
    "\n",
    "waterselectiontest = bilayer.select_atoms(\"resname W\")\n",
    "\n",
    "numberselectiontest = bilayer.select_atoms(\"resid 15\")\n",
    "\n",
    "randomnumberselectiontest = np.random.randint(0,101,35)\n",
    "randomnumberselectiontest = randomnumberselectiontest.tolist()\n"
   ]
  }
 ],
 "metadata": {
  "kernelspec": {
   "display_name": "Python 2",
   "language": "python",
   "name": "python2"
  },
  "language_info": {
   "codemirror_mode": {
    "name": "ipython",
    "version": 2
   },
   "file_extension": ".py",
   "mimetype": "text/x-python",
   "name": "python",
   "nbconvert_exporter": "python",
   "pygments_lexer": "ipython2",
   "version": "2.7.11"
  }
 },
 "nbformat": 4,
 "nbformat_minor": 0
}
