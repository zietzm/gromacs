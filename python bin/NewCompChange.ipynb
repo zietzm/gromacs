{
 "cells": [
  {
   "cell_type": "markdown",
   "metadata": {},
   "source": [
    "# Change Composition Using MDAnalysis\n",
    "We will use the following outline:\n",
    "1. Import all necessary packages\n",
    "2. Randomly select a specified number of DPPC\n",
    "3. Edit those DPPC, preferably using MDAnalysis\n",
    "4. Export using mdanalysis."
   ]
  },
  {
   "cell_type": "code",
   "execution_count": 14,
   "metadata": {
    "collapsed": false
   },
   "outputs": [],
   "source": [
    "import MDAnalysis as mda\n",
    "import sys\n",
    "import random\n",
    "\n",
    "input_file = sys.argv[1] #Must be a .gro file\n",
    "outfile = sys.argv[2] #Must be a name, not a file with extension. Will be exported as gro.\n",
    "\n",
    "# input_file = \"dppc_bilayer.gro\"\n",
    "bilayer = mda.Universe(input_file)\n",
    "\n",
    "# Randomly select 35 lipids in range [1,129)\n",
    "rlist = random.sample(xrange(129), 35)\n",
    "sel = bilayer.select_atoms(\"resid 0\") #This doesn't select anything, it just defines sel as an empty atom selection\n",
    "\n",
    "for i in rlist:\n",
    "    sel = sel + bilayer.select_atoms(\"resid %s\" % i)\n",
    "\n",
    "# Rename these lipids to DBPC\n",
    "sel.resnames = \"DBPC\"\n",
    "\n",
    "# Select all DPPC and W to transfer to output file\n",
    "DPPW = bilayer.select_atoms(\"resname DPPC\") + bilayer.select_atoms(\"resname W\")\n",
    "\n",
    "# Select the atoms from DBPC that actually belong to all DBPC molecules. IE, chop molecules by not selecting them.\n",
    "rm = bilayer.select_atoms(\"resname DBPC and not (name C2A or name C3A or name C4A or name C2B or name C3B or name C4B)\")\n",
    "\n",
    "# Combine the unedited DPPC and W with the edited DBPC molecules. Then convert this to an atom list and write it to a gro file.\n",
    "new = mda.Merge(rm, DPPW)\n",
    "new = new.atoms\n",
    "new.write(filename=outfile, format=\"GRO\")\n",
    "\n",
    "### FOR SOME REASON THIS IS INCAPABLE OF PRINTING ACTUAL BOX COORDINATES. YOU HAVE TO DO IT MANUALLY. FIX THIS!\n",
    "\n",
    "\n"
   ]
  },
  {
   "cell_type": "code",
   "execution_count": 8,
   "metadata": {
    "collapsed": false
   },
   "outputs": [
    {
     "ename": "ValueError",
     "evalue": "No writer found for format:   25.00000  25.00000  10.00000\n",
     "output_type": "error",
     "traceback": [
      "\u001b[1;31m---------------------------------------------------------------------------\u001b[0m",
      "\u001b[1;31mValueError\u001b[0m                                Traceback (most recent call last)",
      "\u001b[1;32m<ipython-input-8-e711ea7715b2>\u001b[0m in \u001b[0;36m<module>\u001b[1;34m()\u001b[0m\n\u001b[0;32m      3\u001b[0m \u001b[0mbilayeratoms\u001b[0m \u001b[1;33m=\u001b[0m \u001b[0mbilayer\u001b[0m\u001b[1;33m.\u001b[0m\u001b[0matoms\u001b[0m\u001b[1;33m\u001b[0m\u001b[0m\n\u001b[0;32m      4\u001b[0m \u001b[0mx\u001b[0m \u001b[1;33m=\u001b[0m \u001b[0mmda\u001b[0m\u001b[1;33m.\u001b[0m\u001b[0mcoordinates\u001b[0m\u001b[1;33m.\u001b[0m\u001b[0mGRO\u001b[0m\u001b[1;33m.\u001b[0m\u001b[0mGROWriter\u001b[0m\u001b[1;33m(\u001b[0m\u001b[0mfilename\u001b[0m\u001b[1;33m=\u001b[0m\u001b[1;34m\"TESTGRO\"\u001b[0m\u001b[1;33m)\u001b[0m\u001b[1;33m.\u001b[0m\u001b[0mfmt\u001b[0m\u001b[1;33m[\u001b[0m\u001b[1;34m'box_orthorhombic'\u001b[0m\u001b[1;33m]\u001b[0m\u001b[1;33m.\u001b[0m\u001b[0mformat\u001b[0m\u001b[1;33m(\u001b[0m\u001b[0mbox\u001b[0m\u001b[1;33m=\u001b[0m\u001b[1;33m(\u001b[0m\u001b[1;36m25.0\u001b[0m\u001b[1;33m,\u001b[0m \u001b[1;36m25.0\u001b[0m \u001b[1;33m,\u001b[0m \u001b[1;36m10.0\u001b[0m\u001b[1;33m)\u001b[0m\u001b[1;33m)\u001b[0m\u001b[1;33m\u001b[0m\u001b[0m\n\u001b[1;32m----> 5\u001b[1;33m \u001b[0mbilayeratoms\u001b[0m\u001b[1;33m.\u001b[0m\u001b[0mwrite\u001b[0m\u001b[1;33m(\u001b[0m\u001b[0mx\u001b[0m\u001b[1;33m)\u001b[0m\u001b[1;33m\u001b[0m\u001b[0m\n\u001b[0m",
      "\u001b[1;32m/home/michael/anaconda2/lib/python2.7/site-packages/MDAnalysis/core/AtomGroup.pyc\u001b[0m in \u001b[0;36mwrite\u001b[1;34m(self, filename, format, filenamefmt, **kwargs)\u001b[0m\n\u001b[0;32m   3203\u001b[0m \u001b[1;33m\u001b[0m\u001b[0m\n\u001b[0;32m   3204\u001b[0m         \u001b[1;32mif\u001b[0m \u001b[1;32mnot\u001b[0m \u001b[1;33m(\u001b[0m\u001b[0mcoords\u001b[0m \u001b[1;32mor\u001b[0m \u001b[0mselection\u001b[0m\u001b[1;33m)\u001b[0m\u001b[1;33m:\u001b[0m\u001b[1;33m\u001b[0m\u001b[0m\n\u001b[1;32m-> 3205\u001b[1;33m             \u001b[1;32mraise\u001b[0m \u001b[0mValueError\u001b[0m\u001b[1;33m(\u001b[0m\u001b[1;34m\"No writer found for format: {0}\"\u001b[0m\u001b[1;33m.\u001b[0m\u001b[0mformat\u001b[0m\u001b[1;33m(\u001b[0m\u001b[0mfilename\u001b[0m\u001b[1;33m)\u001b[0m\u001b[1;33m)\u001b[0m\u001b[1;33m\u001b[0m\u001b[0m\n\u001b[0m\u001b[0;32m   3206\u001b[0m         \u001b[1;32melse\u001b[0m\u001b[1;33m:\u001b[0m\u001b[1;33m\u001b[0m\u001b[0m\n\u001b[0;32m   3207\u001b[0m             \u001b[0mwriter\u001b[0m\u001b[1;33m.\u001b[0m\u001b[0mwrite\u001b[0m\u001b[1;33m(\u001b[0m\u001b[0mself\u001b[0m\u001b[1;33m.\u001b[0m\u001b[0matoms\u001b[0m\u001b[1;33m)\u001b[0m\u001b[1;33m\u001b[0m\u001b[0m\n",
      "\u001b[1;31mValueError\u001b[0m: No writer found for format:   25.00000  25.00000  10.00000\n"
     ]
    }
   ],
   "source": [
    "import MDAnalysis as mda\n",
    "bilayer = mda.Universe(\"dppc_bilayer.gro\")\n",
    "bilayeratoms = bilayer.atoms\n",
    "x = mda.coordinates.GRO.GROWriter(filename=\"TESTGRO\").fmt['box_orthorhombic'].format(box=(25.0, 25.0 , 10.0))\n",
    "bilayeratoms.write(x)"
   ]
  },
  {
   "cell_type": "code",
   "execution_count": null,
   "metadata": {
    "collapsed": false
   },
   "outputs": [],
   "source": []
  },
  {
   "cell_type": "code",
   "execution_count": 79,
   "metadata": {
    "collapsed": false
   },
   "outputs": [],
   "source": []
  }
 ],
 "metadata": {
  "kernelspec": {
   "display_name": "Python 2",
   "language": "python",
   "name": "python2"
  },
  "language_info": {
   "codemirror_mode": {
    "name": "ipython",
    "version": 2
   },
   "file_extension": ".py",
   "mimetype": "text/x-python",
   "name": "python",
   "nbconvert_exporter": "python",
   "pygments_lexer": "ipython2",
   "version": "2.7.11"
  }
 },
 "nbformat": 4,
 "nbformat_minor": 0
}
