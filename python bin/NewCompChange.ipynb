{
 "cells": [
  {
   "cell_type": "markdown",
   "metadata": {},
   "source": [
    "# Change Composition Using MDAnalysis\n",
    "We will use the following outline:\n",
    "1. Import all necessary packages\n",
    "2. Randomly select a specified number of DPPC\n",
    "3. Edit those DPPC, preferably using MDAnalysis\n",
    "4. Export using mdanalysis."
   ]
  },
  {
   "cell_type": "code",
   "execution_count": 14,
   "metadata": {
    "collapsed": false
   },
   "outputs": [],
   "source": [
    "import numpy as np\n",
    "import MDAnalysis as mda\n",
    "\n",
    "input_file = \"dppc_bilayer.gro\"\n",
    "bilayer = mda.Universe(input_file)\n",
    "bilayeratoms = bilayer.atoms\n",
    "individualatoms = bilayeratoms.resids\n",
    "\n",
    "# Randomly select 35 lipids\n",
    "randomnumberselectiontest = np.random.randint(1,129,35)\n",
    "rlist = randomnumberselectiontest.tolist()\n",
    "sel = bilayer.select_atoms(\"resid 0\")\n",
    "\n",
    "for i in rlist:\n",
    "    sel = sel + bilayer.select_atoms(\"resid %s\" % i)\n",
    "\n",
    "# Rename these lipids to DBPC\n",
    "sel.resnames = \"DBPC\"\n",
    "\n",
    "# Select all DPPC and W to transfer to output file\n",
    "DPPW = bilayer.select_atoms(\"resname DPPC\") + bilayer.select_atoms(\"resname W\")\n",
    "\n",
    "# Select the atoms from DBPC that actually belong to all DBPC molecules. IE, chop molecules by not selecting them.\n",
    "rm = bilayer.select_atoms(\"resname DBPC and not (name C2A or name C3A or name C4A or name C2B or name C3B or name C4B)\")\n",
    "\n",
    "# Combine the unedited DPPC and W with the edited DBPC molecules. Then convert this to an atom list and write it to a gro file.\n",
    "new = mda.Merge(rm, DPPW)\n",
    "newatoms = new.atoms\n",
    "newatoms.write(filename=\"NewComp\", format=\"GRO\")"
   ]
  },
  {
   "cell_type": "code",
   "execution_count": 24,
   "metadata": {
    "collapsed": false
   },
   "outputs": [
    {
     "ename": "ValueError",
     "evalue": "Cannot autodetect topology type for file '-f' (file extension could not be parsed).\n           You can use 'Universe(topology, ..., topology_format=FORMAT)' to explicitly specify the format and\n           override automatic detection. Known FORMATs are:\n           ['XML', 'XPDB', 'PRMTOP', 'Permissive_PDB', u'CONFIG', 'TOP', 'PSF', 'PDBQT', 'MOL2', 'PQR', 'DMS', 'TPR', 'CRD', 'GMS', 'PARM7', 'GRO', 'XYZ', 'DATA', 'PDB', u'HISTORY']\n           See http://docs.mdanalysis.org/documentation_pages/topology/init.html#supported-topology-formats\n           For missing formats, raise an issue at http://issues.mdanalysis.org",
     "output_type": "error",
     "traceback": [
      "\u001b[1;31m---------------------------------------------------------------------------\u001b[0m",
      "\u001b[1;31mValueError\u001b[0m                                Traceback (most recent call last)",
      "\u001b[1;32m<ipython-input-24-ae4192fd87c1>\u001b[0m in \u001b[0;36m<module>\u001b[1;34m()\u001b[0m\n\u001b[0;32m      2\u001b[0m \u001b[1;33m\u001b[0m\u001b[0m\n\u001b[0;32m      3\u001b[0m \u001b[0minfile\u001b[0m \u001b[1;33m=\u001b[0m \u001b[0msys\u001b[0m\u001b[1;33m.\u001b[0m\u001b[0margv\u001b[0m\u001b[1;33m[\u001b[0m\u001b[1;36m1\u001b[0m\u001b[1;33m]\u001b[0m\u001b[1;33m\u001b[0m\u001b[0m\n\u001b[1;32m----> 4\u001b[1;33m \u001b[0mnew\u001b[0m \u001b[1;33m=\u001b[0m \u001b[0mmda\u001b[0m\u001b[1;33m.\u001b[0m\u001b[0mUniverse\u001b[0m\u001b[1;33m(\u001b[0m\u001b[0minfile\u001b[0m\u001b[1;33m)\u001b[0m\u001b[1;33m\u001b[0m\u001b[0m\n\u001b[0m\u001b[0;32m      5\u001b[0m \u001b[1;33m\u001b[0m\u001b[0m\n\u001b[0;32m      6\u001b[0m \u001b[1;31m# Count the number of each molecule.\u001b[0m\u001b[1;33m\u001b[0m\u001b[1;33m\u001b[0m\u001b[0m\n",
      "\u001b[1;32m/home/michael/anaconda2/lib/python2.7/site-packages/MDAnalysis/core/AtomGroup.pyc\u001b[0m in \u001b[0;36m__init__\u001b[1;34m(self, *args, **kwargs)\u001b[0m\n\u001b[0;32m   4025\u001b[0m             parser = get_parser_for(self.filename,\n\u001b[0;32m   4026\u001b[0m                                     \u001b[0mpermissive\u001b[0m\u001b[1;33m=\u001b[0m\u001b[0mperm\u001b[0m\u001b[1;33m,\u001b[0m\u001b[1;33m\u001b[0m\u001b[0m\n\u001b[1;32m-> 4027\u001b[1;33m                                     format=topology_format)\n\u001b[0m\u001b[0;32m   4028\u001b[0m         \u001b[1;32mtry\u001b[0m\u001b[1;33m:\u001b[0m\u001b[1;33m\u001b[0m\u001b[0m\n\u001b[0;32m   4029\u001b[0m             \u001b[1;32mwith\u001b[0m \u001b[0mparser\u001b[0m\u001b[1;33m(\u001b[0m\u001b[0mself\u001b[0m\u001b[1;33m.\u001b[0m\u001b[0mfilename\u001b[0m\u001b[1;33m,\u001b[0m \u001b[0muniverse\u001b[0m\u001b[1;33m=\u001b[0m\u001b[0mself\u001b[0m\u001b[1;33m)\u001b[0m \u001b[1;32mas\u001b[0m \u001b[0mp\u001b[0m\u001b[1;33m:\u001b[0m\u001b[1;33m\u001b[0m\u001b[0m\n",
      "\u001b[1;32m/home/michael/anaconda2/lib/python2.7/site-packages/MDAnalysis/topology/core.pyc\u001b[0m in \u001b[0;36mget_parser_for\u001b[1;34m(filename, permissive, format)\u001b[0m\n\u001b[0;32m    141\u001b[0m             \u001b[1;34m\"           See http://docs.mdanalysis.org/documentation_pages/topology/init.html#supported-topology-formats\\n\"\u001b[0m\u001b[1;33m\u001b[0m\u001b[0m\n\u001b[0;32m    142\u001b[0m             \u001b[1;34m\"           For missing formats, raise an issue at \"\u001b[0m\u001b[1;33m\u001b[0m\u001b[0m\n\u001b[1;32m--> 143\u001b[1;33m             \"http://issues.mdanalysis.org\".format(filename, _PARSERS.keys()))\n\u001b[0m\u001b[0;32m    144\u001b[0m \u001b[1;33m\u001b[0m\u001b[0m\n\u001b[0;32m    145\u001b[0m \u001b[1;33m\u001b[0m\u001b[0m\n",
      "\u001b[1;31mValueError\u001b[0m: Cannot autodetect topology type for file '-f' (file extension could not be parsed).\n           You can use 'Universe(topology, ..., topology_format=FORMAT)' to explicitly specify the format and\n           override automatic detection. Known FORMATs are:\n           ['XML', 'XPDB', 'PRMTOP', 'Permissive_PDB', u'CONFIG', 'TOP', 'PSF', 'PDBQT', 'MOL2', 'PQR', 'DMS', 'TPR', 'CRD', 'GMS', 'PARM7', 'GRO', 'XYZ', 'DATA', 'PDB', u'HISTORY']\n           See http://docs.mdanalysis.org/documentation_pages/topology/init.html#supported-topology-formats\n           For missing formats, raise an issue at http://issues.mdanalysis.org"
     ]
    }
   ],
   "source": [
    "import sys\n",
    "\n",
    "infile = sys.argv[1]\n",
    "outtop = sys.argv[2]\n",
    "new = mda.Universe(infile)\n",
    "\n",
    "# Count the number of each molecule.\n",
    "numDBPC = new.select_atoms(\"resname DBPC\")\n",
    "numDPPC = new.select_atoms(\"resname DPPC\")\n",
    "numW = new.select_atoms(\"resname W\")\n",
    "\n",
    "#Account for the number of atoms in each molecule\n",
    "ndb = len(np.unique(numDBPC.resids))\n",
    "ndp = len(np.unique(numDPPC.resids))\n",
    "nwat = len(np.unique(numW.resids))\n",
    "\n",
    "#Comment out water if there isn't any\n",
    "comm = ''\n",
    "if counter3 == 0:\n",
    "    comm = comm + ';'\n",
    "\n",
    "top = open(outtop, 'w')\n",
    "top.write('#include \"martini_v2.1.itp\"'+ '\\n'\n",
    "           '#include \"dppc_single.itp\"'+'\\n'\n",
    "           '#include \"dbpc_single.itp\"'+'\\n'\n",
    "           '\\n'\n",
    "          '[ system ]' +'\\n'\n",
    "          'MIXED BILAYER'+'\\n'\n",
    "          '\\n'\n",
    "          '[ molecules ]'+'\\n'\n",
    "          'DPPC %s' % ndp +'\\n'\n",
    "          'DBPC %s' % ndb +'\\n'\n",
    "          '%sW %s' % (comm, nwat) +'\\n')\n",
    "top.close()"
   ]
  },
  {
   "cell_type": "code",
   "execution_count": null,
   "metadata": {
    "collapsed": false
   },
   "outputs": [],
   "source": []
  },
  {
   "cell_type": "code",
   "execution_count": 79,
   "metadata": {
    "collapsed": false
   },
   "outputs": [],
   "source": []
  }
 ],
 "metadata": {
  "kernelspec": {
   "display_name": "Python 2",
   "language": "python",
   "name": "python2"
  },
  "language_info": {
   "codemirror_mode": {
    "name": "ipython",
    "version": 2
   },
   "file_extension": ".py",
   "mimetype": "text/x-python",
   "name": "python",
   "nbconvert_exporter": "python",
   "pygments_lexer": "ipython2",
   "version": "2.7.11"
  }
 },
 "nbformat": 4,
 "nbformat_minor": 0
}
