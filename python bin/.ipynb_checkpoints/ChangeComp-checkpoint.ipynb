{
 "cells": [
  {
   "cell_type": "code",
   "execution_count": 8,
   "metadata": {
    "collapsed": false
   },
   "outputs": [],
   "source": [
    "import numpy as np\n",
    "import sys\n",
    "\n",
    "\n",
    "# infile = sys.argv[1]\n",
    "# outpdb = sys.argv[2]\n",
    "# outcsv = sys.argv[3]\n",
    "\n",
    "infile = 'dppc_bilayer.csv'\n",
    "outpdb = 'Out.pdb'\n",
    "outcsv = 'TEST.csv'\n",
    "\n",
    "\n",
    "# We need 35% DBP. Since we already have 128 DPP, we will convert 44.8 ~ 45 or 35% to DBP.\n",
    "number_to_be_converted = 45\n",
    "\n",
    "\n",
    "data = np.genfromtxt(infile, delimiter=\",\", dtype=None)\n",
    "ldat = data.size\n",
    "counter0 = 0\n",
    "dconc = number_to_be_converted*6 #We remove six beads to convert each DPPC to DBPC\n",
    "\n",
    "#Remove the desired number of DPPC-unique beads to make DBPC.\n",
    "for i in range(0,ldat):\n",
    "    for j in ['C2A','C3A','C4A','C2B','C3B','C4B']:\n",
    "        if counter0 < dconc:\n",
    "            if (j in data[i]) == True:\n",
    "                counter0 = counter0+1\n",
    "                data = np.delete(data, (i))\n",
    "\n",
    "#Change the edited rows of each molecule to read, DBP instead of DPP.\n",
    "for k in range(0,dconc):\n",
    "    if ('NC3' in data[k]) == True:\n",
    "        for l in range(k,k+6):\n",
    "            ((data[l])[3]) = 'DBP'\n",
    "\n",
    "ldat = data.size # Update the size to reflect edits made.\n",
    "\n",
    "# Print Output in PDB format. We could edit title, box size, etc.\n",
    "ann=(\"TITLE     MIXED BILAYER\" + '\\n'\n",
    "     \"REMARK    THIS IS A SIMULATION BOX\" +'\\n'\n",
    "     \"CRYST1   63.191   64.610  100.548  90.00  90.00  90.00 P 1           1\" +'\\n'\n",
    "     \"MODEL        1\" +'\\n')\n",
    "fmt=\"%0s%7s%5s%4s%6s%12s%8s%8s%6s%6s\" # Print the tuples to be exactly spaced as pdb.\n",
    "x=''\n",
    "for i in range(0,ldat):\n",
    "    x = x + (fmt % (tuple(data[i]))) + '\\n' #format data as it should be for PDB\n",
    "\n",
    "conc = (\"TER\"+'\\n'\n",
    "\t\"ENDMDL\")\n",
    "\n",
    "out = open(outpdb,'w') # Create an output file and print our annotations/data\n",
    "out.write(ann)\n",
    "out.write(x)\n",
    "out.write(conc)\n",
    "out.close()\n",
    "\n",
    "#Output as CSV as well so that we can generate a topology\n",
    "fmt=\"%0s%0s%0s%0s%0s%0s%0s%0s%0s%0s\"\n",
    "y=''\n",
    "for i in range(0,ldat):\n",
    "   y = y + (fmt % (tuple(data[i]))) + '\\n'\n",
    "\n",
    "out2 = open(outcsv,'w')\n",
    "out2.write(y)\n",
    "out2.close()\n",
    "\n",
    "\n"
   ]
  },
  {
   "cell_type": "code",
   "execution_count": 9,
   "metadata": {
    "collapsed": false
   },
   "outputs": [
    {
     "name": "stdout",
     "output_type": "stream",
     "text": [
      "[('ATOM', 1, 'NC3', 'DBP', 1, 11.71, 51.04, 29.12, 1.0, 0.0)\n",
      " ('ATOM', 2, 'PO4', 'DBP', 1, 8.3, 48.52, 28.37, 1.0, 0.0)\n",
      " ('ATOM', 3, 'GL1', 'DBP', 1, 8.12, 46.82, 31.65, 1.0, 0.0) ...,\n",
      " ('ATOM', 3534, 'W', 'W', 2126, 25.73, 16.54, 81.62, 1.0, 0.0)\n",
      " ('ATOM', 3535, 'W', 'W', 2127, 36.64, 23.16, 21.32, 1.0, 0.0)\n",
      " ('ATOM', 3536, 'W', 'W', 2128, 23.39, 54.16, 96.98, 1.0, 0.0)]\n"
     ]
    }
   ],
   "source": [
    "print(data)"
   ]
  },
  {
   "cell_type": "code",
   "execution_count": null,
   "metadata": {
    "collapsed": true
   },
   "outputs": [],
   "source": []
  }
 ],
 "metadata": {
  "kernelspec": {
   "display_name": "Python 2",
   "language": "python",
   "name": "python2"
  },
  "language_info": {
   "codemirror_mode": {
    "name": "ipython",
    "version": 2
   },
   "file_extension": ".py",
   "mimetype": "text/x-python",
   "name": "python",
   "nbconvert_exporter": "python",
   "pygments_lexer": "ipython2",
   "version": "2.7.11"
  }
 },
 "nbformat": 4,
 "nbformat_minor": 0
}
