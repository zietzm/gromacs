{
 "cells": [
  {
   "cell_type": "markdown",
   "metadata": {},
   "source": [
    "# Change Composition Using MDAnalysis\n",
    "We will use the following outline:\n",
    "1. Import all necessary packages\n",
    "2. Randomly select a specified number of DPPC\n",
    "3. Edit those DPPC, preferably using MDAnalysis\n",
    "4. Export using mdanalysis."
   ]
  },
  {
   "cell_type": "code",
   "execution_count": 14,
   "metadata": {
    "collapsed": false
   },
   "outputs": [],
   "source": [
    "import MDAnalysis as mda\n",
    "import sys\n",
    "import random\n",
    "\n",
    "input_file = sys.argv[1] #Must be a .gro file\n",
    "outfile = sys.argv[2] #Must be a name, not a file with extension. Will be exported as gro.\n",
    "\n",
    "# input_file = \"dppc_bilayer.gro\"\n",
    "bilayer = mda.Universe(input_file)\n",
    "\n",
    "# Randomly select 35 lipids in range [1,129)\n",
    "rlist = random.sample(xrange(129), 35)\n",
    "sel = bilayer.select_atoms(\"resid 0\") #This doesn't select anything, it just defines sel as an empty atom selection\n",
    "\n",
    "for i in rlist:\n",
    "    sel = sel + bilayer.select_atoms(\"resid %s\" % i)\n",
    "\n",
    "# Rename these lipids to DBPC\n",
    "sel.resnames = \"DBPC\"\n",
    "\n",
    "# Select all DPPC and W to transfer to output file\n",
    "DPPW = bilayer.select_atoms(\"resname DPPC\") + bilayer.select_atoms(\"resname W\")\n",
    "\n",
    "# Select the atoms from DBPC that actually belong to all DBPC molecules. IE, chop molecules by not selecting them.\n",
    "rm = bilayer.select_atoms(\"resname DBPC and not (name C2A or name C3A or name C4A or name C2B or name C3B or name C4B)\")\n",
    "\n",
    "# Combine the unedited DPPC and W with the edited DBPC molecules. Then convert this to an atom list and write it to a gro file.\n",
    "new = mda.Merge(rm, DPPW)\n",
    "new = new.atoms\n",
    "new.write(filename=outfile, format=\"GRO\")\n",
    "\n",
    "### FOR SOME REASON THIS IS INCAPABLE OF PRINTING ACTUAL BOX COORDINATES. YOU HAVE TO DO IT MANUALLY. FIX THIS!\n"
   ]
  },
  {
   "cell_type": "code",
   "execution_count": null,
   "metadata": {
    "collapsed": false
   },
   "outputs": [],
   "source": []
  },
  {
   "cell_type": "code",
   "execution_count": null,
   "metadata": {
    "collapsed": false
   },
   "outputs": [],
   "source": []
  },
  {
   "cell_type": "code",
   "execution_count": 79,
   "metadata": {
    "collapsed": false
   },
   "outputs": [],
   "source": []
  }
 ],
 "metadata": {
  "kernelspec": {
   "display_name": "Python 2",
   "language": "python",
   "name": "python2"
  },
  "language_info": {
   "codemirror_mode": {
    "name": "ipython",
    "version": 2
   },
   "file_extension": ".py",
   "mimetype": "text/x-python",
   "name": "python",
   "nbconvert_exporter": "python",
   "pygments_lexer": "ipython2",
   "version": "2.7.11"
  }
 },
 "nbformat": 4,
 "nbformat_minor": 0
}
