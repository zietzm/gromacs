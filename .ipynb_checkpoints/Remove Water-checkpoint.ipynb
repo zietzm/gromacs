{
 "cells": [
  {
   "cell_type": "code",
   "execution_count": 91,
   "metadata": {
    "collapsed": false
   },
   "outputs": [],
   "source": [
    "import numpy as np\n",
    "import sys\n",
    "\n",
    "infile = 'dppc_bilayer.csv'\n",
    "outpdb = 'TEST.pdb'\n",
    "\n",
    "data = np.genfromtxt(infile, delimiter=\",\", dtype=None)\n",
    "ldat = data.size\n",
    "\n",
    "#Count number of water\n",
    "counter = 0\n",
    "for m in range(0,ldat):\n",
    "    if ('W' in data[m]) == True:\n",
    "        counter = counter+1\n",
    "        \n",
    "num = int(data.size) - counter\n",
    "\n",
    "#Remove that number of water\n",
    "while (int(data.size) > 1536):\n",
    "    data = np.delete(data,int(data.size - 1),0)\n"
   ]
  },
  {
   "cell_type": "code",
   "execution_count": 90,
   "metadata": {
    "collapsed": false,
    "scrolled": true
   },
   "outputs": [
    {
     "name": "stdout",
     "output_type": "stream",
     "text": [
      "[('ATOM', 1, 'NC3', 'DPP', 1, 11.71, 51.04, 29.12, 1.0, 0.0)\n",
      " ('ATOM', 2, 'PO4', 'DPP', 1, 8.3, 48.52, 28.37, 1.0, 0.0)\n",
      " ('ATOM', 3, 'GL1', 'DPP', 1, 8.12, 46.82, 31.65, 1.0, 0.0) ...,\n",
      " ('ATOM', 3534, 'W', 'W', 2126, 25.73, 16.54, 81.62, 1.0, 0.0)\n",
      " ('ATOM', 3535, 'W', 'W', 2127, 36.64, 23.16, 21.32, 1.0, 0.0)\n",
      " ('ATOM', 3536, 'W', 'W', 2128, 23.39, 54.16, 96.98, 1.0, 0.0)]\n",
      "3536\n"
     ]
    }
   ],
   "source": [
    "print(data)\n",
    "print data.size"
   ]
  },
  {
   "cell_type": "code",
   "execution_count": 92,
   "metadata": {
    "collapsed": false
   },
   "outputs": [
    {
     "name": "stdout",
     "output_type": "stream",
     "text": [
      "[('ATOM', 1, 'NC3', 'DPP', 1, 11.71, 51.04, 29.12, 1.0, 0.0)\n",
      " ('ATOM', 2, 'PO4', 'DPP', 1, 8.3, 48.52, 28.37, 1.0, 0.0)\n",
      " ('ATOM', 3, 'GL1', 'DPP', 1, 8.12, 46.82, 31.65, 1.0, 0.0) ...,\n",
      " ('ATOM', 1534, 'C2B', 'DPP', 128, 45.3, 54.64, 56.62, 1.0, 0.0)\n",
      " ('ATOM', 1535, 'C3B', 'DPP', 128, 45.49, 52.36, 53.42, 1.0, 0.0)\n",
      " ('ATOM', 1536, 'C4B', 'DPP', 128, 45.5, 48.07, 51.98, 1.0, 0.0)]\n",
      "1536\n"
     ]
    }
   ],
   "source": [
    "print data\n",
    "print data.size"
   ]
  },
  {
   "cell_type": "code",
   "execution_count": null,
   "metadata": {
    "collapsed": true
   },
   "outputs": [],
   "source": [
    "# infile = sys.argv[1] #needs to be a csv file\n",
    "# outpdb = sys.argv[2]\n",
    "# outcsv = sys.argv[3]\n",
    "# outtop = sys.argv[3]\n",
    "\n",
    "# We want to remove all water.\n",
    "\n",
    "\n",
    "\n",
    "# for j in ['C2A','C3A','C4A','C2B','C3B','C4B']:\n",
    "    #     if counter0 < dconc:\n",
    "    #         if (j in data[i]) == True:\n",
    "    #             counter0 = counter0+1\n",
    "    #             data = np.delete(data, (i))\n",
    "\n",
    "\n",
    "# ldat = data.size # Update the number of atoms to reflect edits made.\n",
    "\n",
    "# # Print Output in PDB format. We could edit title, box size, etc.\n",
    "# ann=(\"TITLE     WATERLESS MIXED BILAYER\" + '\\n'\n",
    "#      \"REMARK    THIS IS A SIMULATION BOX\" +'\\n'\n",
    "#      \"CRYST1   63.191   64.610  100.548  90.00  90.00  90.00 P 1           1\" +'\\n'\n",
    "#      \"MODEL        1\" +'\\n')\n",
    "# fmt=\"%0s%7s%5s%4s%6s%12s%8s%8s%6s%6s\" # Print the tuples to be exactly spaced as pdb.\n",
    "# x=''\n",
    "# for i in range(0,ldat):\n",
    "#    x = x + (fmt % (tuple(data[i]))) + '\\n' #We should print automatically to PDB\n",
    "\n",
    "# conc=(\"TER\" + '\\n'\n",
    "#       \"ENDMDL\")\n",
    "\n",
    "# out = open(outpdb,'w') # Create an output file and print our annotations/data\n",
    "# out.write(ann)\n",
    "# out.write(x)\n",
    "# out.write(conc)\n",
    "# out.close()"
   ]
  }
 ],
 "metadata": {
  "kernelspec": {
   "display_name": "Python 2",
   "language": "python",
   "name": "python2"
  },
  "language_info": {
   "codemirror_mode": {
    "name": "ipython",
    "version": 2
   },
   "file_extension": ".py",
   "mimetype": "text/x-python",
   "name": "python",
   "nbconvert_exporter": "python",
   "pygments_lexer": "ipython2",
   "version": "2.7.11"
  }
 },
 "nbformat": 4,
 "nbformat_minor": 0
}
