{
 "cells": [
  {
   "cell_type": "code",
   "execution_count": null,
   "metadata": {
    "collapsed": true
   },
   "outputs": [],
   "source": [
    "import numpy as np\n",
    "import sys\n",
    "\n",
    "# infile = sys.argv[1] #needs to be a csv file\n",
    "# outpdb = sys.argv[2]\n",
    "# outcsv = sys.argv[3]\n",
    "# outtop = sys.argv[3]\n",
    "\n",
    "# We want to remove all water.\n",
    "\n",
    "infile = 'dppc_bilayer.csv'\n",
    "outpdb = 'TEST.pdb'\n",
    "# outtop = 'topol0.top'\n",
    "\n",
    "\n",
    "data = np.genfromtxt(infile, delimiter=\",\", dtype=None)\n",
    "ldat = data.size\n",
    "# counter0 = 0\n",
    "# dconc = number_to_be_converted*6 #We remove six beads to convert each DPPC to DBPC\n",
    "\n",
    "#Remove all W\n",
    "for i in range(0,ldat):\n",
    "        if ('W' in data[i]) == True:\n",
    "            data = np.delete(data, (i))\n",
    "\n",
    "\n",
    "    # for j in ['C2A','C3A','C4A','C2B','C3B','C4B']:\n",
    "    #     if counter0 < dconc:\n",
    "    #         if (j in data[i]) == True:\n",
    "    #             counter0 = counter0+1\n",
    "    #             data = np.delete(data, (i))\n",
    "\n",
    "\n",
    "# ldat = data.size # Update the number of atoms to reflect edits made.\n",
    "\n",
    "# # Print Output in PDB format. We could edit title, box size, etc.\n",
    "# ann=(\"TITLE     WATERLESS MIXED BILAYER\" + '\\n'\n",
    "#      \"REMARK    THIS IS A SIMULATION BOX\" +'\\n'\n",
    "#      \"CRYST1   63.191   64.610  100.548  90.00  90.00  90.00 P 1           1\" +'\\n'\n",
    "#      \"MODEL        1\" +'\\n')\n",
    "# fmt=\"%0s%7s%5s%4s%6s%12s%8s%8s%6s%6s\" # Print the tuples to be exactly spaced as pdb.\n",
    "# x=''\n",
    "# for i in range(0,ldat):\n",
    "#    x = x + (fmt % (tuple(data[i]))) + '\\n' #We should print automatically to PDB\n",
    "\n",
    "# conc=(\"TER\" + '\\n'\n",
    "#       \"ENDMDL\")\n",
    "\n",
    "# out = open(outpdb,'w') # Create an output file and print our annotations/data\n",
    "# out.write(ann)\n",
    "# out.write(x)\n",
    "# out.write(conc)\n",
    "# out.close()"
   ]
  }
 ],
 "metadata": {
  "kernelspec": {
   "display_name": "Python 2",
   "language": "python",
   "name": "python2"
  },
  "language_info": {
   "codemirror_mode": {
    "name": "ipython",
    "version": 2
   },
   "file_extension": ".py",
   "mimetype": "text/x-python",
   "name": "python",
   "nbconvert_exporter": "python",
   "pygments_lexer": "ipython2",
   "version": "2.7.11"
  }
 },
 "nbformat": 4,
 "nbformat_minor": 0
}
